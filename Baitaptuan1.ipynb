{
 "cells": [
  {
   "cell_type": "markdown",
   "id": "4a70814a",
   "metadata": {},
   "source": [
    "W2A1"
   ]
  },
  {
   "cell_type": "code",
   "execution_count": null,
   "id": "5a90e086",
   "metadata": {},
   "outputs": [
    {
     "name": "stdout",
     "output_type": "stream",
     "text": [
      "Hello World\n"
     ]
    }
   ],
   "source": [
    "print(\"Hello world!\")"
   ]
  },
  {
   "cell_type": "markdown",
   "id": "6381c6fd",
   "metadata": {},
   "source": [
    "W2A2"
   ]
  },
  {
   "cell_type": "code",
   "execution_count": null,
   "id": "d0935ec3",
   "metadata": {},
   "outputs": [],
   "source": [
    "#Nhập tên\n",
    "ten= input(\"Tên người: \")\n",
    "#In ra lời chào tương ứng\n",
    "print(\"Xin chào\" + ten)\n",
    "print(\"Chúc bạn một ngày tốt lành\" + ten)"
   ]
  },
  {
   "cell_type": "markdown",
   "id": "fc3908f9",
   "metadata": {},
   "source": [
    "W2A3"
   ]
  },
  {
   "cell_type": "code",
   "execution_count": null,
   "id": "dcd9f2db",
   "metadata": {},
   "outputs": [],
   "source": [
    "#Nhập dữ liệu a,b\n",
    "a=int(input(\"Nhập a: \"))\n",
    "b=int(input(\"Nhập b: \"))\n",
    "#Tính toán phép toán\n",
    "tong=a+b\n",
    "hieu=a-b\n",
    "tich=a*b\n",
    "phan_nguyen=a//b\n",
    "phan_du=a%b\n",
    "chia_thuc=a/b\n",
    "#In kết quả\n",
    "print(f\"{a} + {b} = {tong}\")\n",
    "print(f\"{a} - {b} = {hieu}\")\n",
    "print(f\"{a} * {b} = {tich}\")\n",
    "print(f\"{a} // {b} = {phan_nguyen}\")\n",
    "print(f\"{a} % {b} = {phan_du}\")\n",
    "print(f\"{a} / {b} = {chia_thuc}\")"
   ]
  },
  {
   "cell_type": "markdown",
   "id": "7bc9878a",
   "metadata": {},
   "source": [
    "W2A4"
   ]
  },
  {
   "cell_type": "code",
   "execution_count": null,
   "metadata": {},
   "outputs": [],
   "source": [
    "#Nhập dữ liệu\n",
    "scores=input().split()\n",
    "\n",
    "#Chuyển đổi về số thực\n",
    "a1,b1,c1,a2,b2,a3=map(float,scores)\n",
    "\n",
    "#Tính điểm trung bình\n",
    "TB=((a1+b1+c1)+(a2+b2)*2+a3*3)/10\n",
    "\n",
    "#In ra điểm trung bình\n",
    "print(f\"{TB:.2f}\")"
   ]
  },
  {
   "cell_type": "markdown",
   "id": "c3961cdd",
   "metadata": {},
   "source": [
    "W2A5"
   ]
  },
  {
   "cell_type": "code",
   "execution_count": null,
   "id": "391272e6",
   "metadata": {},
   "outputs": [],
   "source": [
    "#Nhập dữ liệu\n",
    "a,b=map(int,input().split())\n",
    "#Xuất ra kết quả\n",
    "print(a**b)"
   ]
  },
  {
   "cell_type": "markdown",
   "id": "93e9cd5e",
   "metadata": {},
   "source": [
    "W2A6"
   ]
  },
  {
   "cell_type": "code",
   "execution_count": null,
   "id": "e87f75e0",
   "metadata": {},
   "outputs": [],
   "source": [
    "#Nhập dữ liệu chữ cái\n",
    "char = input(\"Nhập vào một ký tự (a-z): \")\n",
    "if len(char)==1 and 'a'<=char<='z':\n",
    "    unicode_code = ord(char)\n",
    "    print(f\"Mã unicode của {char} là {unicode_code}\")\n",
    "    upper_char_code=unicode_code-32\n",
    "    upper_char=chr(upper_char_code)\n",
    "    print(f\"Ký tự hoa tương ứng là {upper_char}\")\n",
    "    print(f\"Mã unicode của {upper_char} là {upper_char_code}\")\n",
    "else:\n",
    "    print(\"Vui lòng nhập lại kí tự (a-z)\")"
   ]
  },
  {
   "cell_type": "markdown",
   "id": "c3197a0f",
   "metadata": {},
   "source": [
    "W2A7"
   ]
  },
  {
   "cell_type": "code",
   "execution_count": null,
   "id": "b9a58571",
   "metadata": {},
   "outputs": [],
   "source": [
    "#Nhập hai biểu thức\n",
    "A=((13**2)*3)+5\n",
    "B=13**2*3 + 5\n",
    "#In ra kết quả \n",
    "print(f\"In ra kết quả của A: {A}\")\n",
    "print(f\"In ra kết quả của A: {B}\")"
   ]
  },
  {
   "cell_type": "markdown",
   "id": "34ca1dbc",
   "metadata": {},
   "source": [
    "W2A8"
   ]
  },
  {
   "cell_type": "code",
   "execution_count": null,
   "id": "3162463d",
   "metadata": {},
   "outputs": [],
   "source": [
    "#Nhập nhiệt độ Celcius\n",
    "C=int(input(\"Nhiệt độ C là: \"))\n",
    "\n",
    "#Công thức quy đổi sang nhiệt độ Fahrenheit\n",
    "F=9/5*C+32\n",
    "\n",
    "#In ra kết quả (làm tròn đến hai chữ số thập phân sau dấu phẩy)\n",
    "print(f\"Nhiệt độ sau khi đổi là: {F:.2f}F\")"
   ]
  },
  {
   "cell_type": "markdown",
   "id": "f79bff07",
   "metadata": {},
   "source": [
    "W2A9"
   ]
  },
  {
   "cell_type": "code",
   "execution_count": null,
   "id": "6c4393f2",
   "metadata": {},
   "outputs": [],
   "source": [
    "#Nhập giá tiền x (USD)\n",
    "x=float(input(\"Giá tiền chiếc đồng hồ là: \"))\n",
    "\n",
    "#Hàm tính tổng số tiền mà Đạt phải trả\n",
    "Tong=x + 10 + x*(0.10 + 0.30)\n",
    " \n",
    "#In ra kết quả\n",
    "print(f\"Tổng số tiền mà Đạt phải trả để mua chiếc đồng hồ là: {Tong:.2f}\")"
   ]
  },
  {
   "cell_type": "markdown",
   "id": "b1747d13",
   "metadata": {},
   "source": [
    "W2A10"
   ]
  },
  {
   "cell_type": "code",
   "execution_count": null,
   "id": "5141ac09",
   "metadata": {},
   "outputs": [],
   "source": [
    "#Nhập tên 3 người bạn\n",
    "names=input().split()\n",
    "#Đảo ngược chuỗi tên\n",
    "names.reverse()\n",
    "#In ra dữ liệu xin chào\n",
    "print(f\"Hi {names[0]},{names[1]} and {names[2]}.\")"
   ]
  },
  {
   "cell_type": "markdown",
   "id": "7bb5682d",
   "metadata": {},
   "source": [
    "W2A11"
   ]
  },
  {
   "cell_type": "code",
   "execution_count": null,
   "metadata": {},
   "outputs": [],
   "source": [
    "#Nhập dữ liệu giờ và phút \n",
    "gio=int(input(\"Số giờ: \"))\n",
    "phut=int(input(\"Số phút: \"))\n",
    "\n",
    "#Đổi dữ liệu giờ và phút\n",
    "Phut_giay=phut*60\n",
    "Gio_giay=gio*3600\n",
    "\n",
    "#In dữ liệu \n",
    "print(f\"Số giây khi đổi sang {Gio_giay+Phut_giay} giây\")"
   ]
  },
  {
   "cell_type": "markdown",
   "id": "f87fec1c",
   "metadata": {},
   "source": [
    "W2A12"
   ]
  },
  {
   "cell_type": "code",
   "execution_count": null,
   "id": "2820fee7",
   "metadata": {},
   "outputs": [],
   "source": [
    "#Nhập dữ liệu độ dài cạnh Rubik\n",
    "n=int(input(\"Độ dài cạnh Rubik: \"))\n",
    "\n",
    "#Số lượng miếng dán riêng lẻ\n",
    "mieng_dan=6*(n**2)\n",
    "\n",
    "#In ra kết quả\n",
    "print(f\"Số lượng miếng dán riêng lẻ cho khối rubix là: {mieng_dan}\")"
   ]
  },
  {
   "cell_type": "markdown",
   "id": "0fcad869",
   "metadata": {},
   "source": [
    "W2A13"
   ]
  },
  {
   "cell_type": "code",
   "execution_count": null,
   "metadata": {},
   "outputs": [],
   "source": [
    "#Nhập hai số nguyên dương a và b\n",
    "a,b=map(int,input().split())\n",
    "\n",
    "#tích của hai số nguyên dương\n",
    "tich=a*b\n",
    "\n",
    "#Trả về hàng đơn vị của tích hai số nguyên dương\n",
    "don_vi=tich%10\n",
    "\n",
    "#In ra kết quả\n",
    "print(tich)\n",
    "print(don_vi)"
   ]
  },
  {
   "cell_type": "markdown",
   "id": "2d7a3611",
   "metadata": {},
   "source": [
    "W2A14"
   ]
  },
  {
   "cell_type": "code",
   "execution_count": null,
   "id": "cebe144d",
   "metadata": {},
   "outputs": [],
   "source": [
    "#Nhập dữ liệu hai số a và b\n",
    "a,b=map(float,input().split())\n",
    "\n",
    "#Hoán đổi hai giá trị của a và b\n",
    "a,b = b,a\n",
    "\n",
    "#In ra kết quả\n",
    "print(f\"Giá trị của a sau khi hoán đổi {a}\")\n",
    "print(f\"Giá trị của b sau khi hoán đổi {b}\")"
   ]
  },
  {
   "cell_type": "markdown",
   "id": "84cb988a",
   "metadata": {},
   "source": [
    "W2A15"
   ]
  },
  {
   "cell_type": "code",
   "execution_count": null,
   "id": "fa2c0fc2",
   "metadata": {},
   "outputs": [],
   "source": [
    "#Nhập dữ liệu n\n",
    "n=int(input(\"Số nguyên dương n: \"))\n",
    "\n",
    "#Tính \"số sao\" thứ n\n",
    "so_sao=6*n*(n-1)+1\n",
    "\n",
    "#Trả kết quả\n",
    "print(f\"Số sao thứ {n} là: {so_sao}\")"
   ]
  },
  {
   "cell_type": "markdown",
   "id": "657199d4",
   "metadata": {},
   "source": [
    "W2A16"
   ]
  },
  {
   "cell_type": "code",
   "execution_count": null,
   "metadata": {},
   "outputs": [],
   "source": [
    "#In ra các mùa trong năm bằng Tiếng Anh\n",
    "print(\"Spring\\nSummer\\nAutumn\\nWinter\")\n"
   ]
  },
  {
   "cell_type": "markdown",
   "id": "00c3f936",
   "metadata": {},
   "source": [
    "W2A17"
   ]
  },
  {
   "cell_type": "code",
   "execution_count": null,
   "id": "8296c8b0",
   "metadata": {},
   "outputs": [],
   "source": [
    "#In ra màn hình tam giác\n",
    "print(\"*\"*1+ \" \"*4)\n",
    "print(\"*\"*3+ \" \"*2)\n",
    "print(\"*\"*5)"
   ]
  },
  {
   "cell_type": "markdown",
   "id": "c7f8fc72",
   "metadata": {},
   "source": [
    "W2A18"
   ]
  },
  {
   "cell_type": "code",
   "execution_count": null,
   "metadata": {},
   "outputs": [],
   "source": [
    "#In ra dòng chữ \"TDTT\"\n",
    "print(\"### ##   ######\")\n",
    "print(\" #  #  #  #  #\")\n",
    "print(\" #  #   # #  #\")\n",
    "print(\" #  #  #  #  #\")\n",
    "print(\" #  ##    #  #\")\n"
   ]
  },
  {
   "cell_type": "markdown",
   "id": "071ae085",
   "metadata": {},
   "source": [
    "W2A19"
   ]
  },
  {
   "cell_type": "code",
   "execution_count": null,
   "id": "6be980b8",
   "metadata": {},
   "outputs": [],
   "source": [
    "#Sử dụng vòng lặp for\n",
    "Days_of_week=[\"Monday\",\"Tuesday\",\"Wednesday\",\"Thursday\",\"Friday\",\"Saturday\",\"Sunday\"]\n",
    "for days in Days_of_week:\n",
    "    print(days)"
   ]
  },
  {
   "cell_type": "markdown",
   "id": "1085e126",
   "metadata": {},
   "source": [
    "W2A20"
   ]
  },
  {
   "cell_type": "code",
   "execution_count": null,
   "id": "0990a7bf",
   "metadata": {},
   "outputs": [],
   "source": [
    "#Sử dụng vòng lặp for\n",
    "Months_of_year=[\"January\",\"February\",\"March\",\"April\",\"May\",\"June\",\"July\",\"August\",\"September\",\"October\",\"November\",\"December\"]\n",
    "for month in Months_of_year:\n",
    "    print(month)"
   ]
  },
  {
   "cell_type": "markdown",
   "id": "21791699",
   "metadata": {},
   "source": [
    "W2A21\n"
   ]
  },
  {
   "cell_type": "code",
   "execution_count": null,
   "metadata": {},
   "outputs": [],
   "source": [
    "#Dùng vòng for\n",
    "for i in range(10):\n",
    "    print(\"Hello, world\")"
   ]
  }
 ],
 "metadata": {
  "kernelspec": {
   "display_name": "Python 3",
   "language": "python",
   "name": "python3"
  },
  "language_info": {
   "codemirror_mode": {
    "name": "ipython",
    "version": 3
   },
   "file_extension": ".py",
   "mimetype": "text/x-python",
   "name": "python",
   "nbconvert_exporter": "python",
   "pygments_lexer": "ipython3",
   "version": "3.13.7"
  }
 },
 "nbformat": 4,
 "nbformat_minor": 5
}
