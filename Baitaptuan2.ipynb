{
 "cells": [
  {
   "cell_type": "markdown",
   "id": "59262ab4",
   "metadata": {},
   "source": [
    "Bài tập về nhà"
   ]
  },
  {
   "cell_type": "markdown",
   "id": "53605d51",
   "metadata": {},
   "source": [
    "Bài 1"
   ]
  },
  {
   "cell_type": "code",
   "execution_count": null,
   "id": "5d7c1484",
   "metadata": {},
   "outputs": [],
   "source": [
    "#IN ra màn hình số gấp đôi của n\n",
    "\n",
    "#Nhập số n\n",
    "n=int(input(\"Nhập số nguyên n: \"))\n",
    "#In ra số gấp đôi\n",
    "print(f\"Số gấp đôi của n: {n*2}\")"
   ]
  },
  {
   "cell_type": "markdown",
   "id": "e4860b2e",
   "metadata": {},
   "source": [
    "Bài 2"
   ]
  },
  {
   "cell_type": "code",
   "execution_count": null,
   "id": "825cb885",
   "metadata": {},
   "outputs": [],
   "source": [
    "#Nhập dữ liệu a,b\n",
    "a=float(input(\"Chiều rộng: \"))\n",
    "b=float(input(\"Chiều dài: \"))\n",
    "\n",
    "#Diện tích mảnh đất\n",
    "S_manhdat=a*b\n",
    "\n",
    "#Diện tích khu sân chơi\n",
    "S_sanchoi=3.14*((a/2)**2)\n",
    "\n",
    "#Diện tích trồng cây xung quanh\n",
    "S_cay=S_manhdat-S_sanchoi\n",
    "print(f\"Diện tích trồng cây xung quanh là: {S_cay:.2f}\")"
   ]
  },
  {
   "cell_type": "markdown",
   "id": "9c526092",
   "metadata": {},
   "source": [
    "Bài 3"
   ]
  },
  {
   "cell_type": "code",
   "execution_count": null,
   "id": "259acb96",
   "metadata": {},
   "outputs": [],
   "source": [
    "#Nhập chữ cái\n",
    "char=input(\"Nhập kí tự: \")\n",
    "\n",
    "#Kiểm tra là chữ hoa hay chữ thường\n",
    "if 'a'<=char<='z':\n",
    "    #Đổi chữ thường sang mã ASCII xong chuyển về chữ hoa\n",
    "    char_upper=chr(ord(char)-32)\n",
    "    print(f\"Chữ in hoa của kí tự {char} là: {char_upper}\")\n",
    "elif 'A'<= char <='Z':\n",
    "    #Đổi chữ hoa sang mã ASCII xong chuyển về chữ thường\n",
    "    char_low=chr(ord(char)+32)\n",
    "    print(f\"Chữ in thường của kí tự {char} là: {char_low}\")"
   ]
  },
  {
   "cell_type": "markdown",
   "id": "9ac5f84c",
   "metadata": {},
   "source": [
    "Bài 4"
   ]
  },
  {
   "cell_type": "code",
   "execution_count": null,
   "id": "a1edba30",
   "metadata": {},
   "outputs": [],
   "source": [
    "#Nhập chữ cái\n",
    "char=input(\"Nhập kí tự: \")\n",
    "#Đổi kí tự sang mã ASCII\n",
    "unicode=ord(char)\n",
    "#Kiểm tra có phải chữ cái hay không\n",
    "if (65<=unicode<=142):\n",
    "    print(f\"{char} là kí tự alphabet\")\n",
    "else:\n",
    "    print(f\"{char} không phải là kí tự alphabet\")"
   ]
  },
  {
   "cell_type": "markdown",
   "id": "bbfe1bb6",
   "metadata": {},
   "source": [
    "Bài 5"
   ]
  },
  {
   "cell_type": "code",
   "execution_count": null,
   "id": "6ae7cea9",
   "metadata": {},
   "outputs": [],
   "source": [
    "#Nhập chữ cái\n",
    "char=input(\"Nhập kí tự: \")\n",
    "#Đổi kí tự sang mã ASCII\n",
    "unicode=ord(char)\n",
    "#In ra chữ cái thường liền trước chữ cái đó\n",
    "if (char=='A'):\n",
    "    print(f\"Chữ thường liền trước {char} là: z\")\n",
    "else:\n",
    "    unicode1=unicode+31\n",
    "    print(f\"Chữ thường liền trước {char} là: {chr(unicode1)}\")"
   ]
  },
  {
   "cell_type": "markdown",
   "id": "33fed7ab",
   "metadata": {},
   "source": [
    "Bài 6"
   ]
  },
  {
   "cell_type": "code",
   "execution_count": null,
   "id": "0242f42a",
   "metadata": {},
   "outputs": [],
   "source": [
    "import math\n",
    "#Nhập độ dài 3 cạnh tam giác\n",
    "a,b,c=map(float,input().split())\n",
    "\n",
    "#Kiểm tra có phải tam giác không\n",
    "if (a+b>c) and (a+c>b) and (b+c>a):\n",
    "    #Tính nửa chu vi của tam giác\n",
    "    p=(a+b+c)/2\n",
    "    #Tính diện tích tam giác theo hàm heron\n",
    "    S=math.sqrt(p*(p-a)*(p-b)*(p-c))\n",
    "    print(f\"Diện tích của tam giác là: {S:.1f}\")\n",
    "else:\n",
    "    print(\"Không phải 3 cạnh của tam giác\")"
   ]
  },
  {
   "cell_type": "markdown",
   "id": "bebf10a4",
   "metadata": {},
   "source": [
    "Bài 7"
   ]
  },
  {
   "cell_type": "code",
   "execution_count": null,
   "id": "4fcb33d2",
   "metadata": {},
   "outputs": [],
   "source": [
    "#Nhập chuỗi\n",
    "string=input(\"Nhập chuỗi: \")\n",
    "\n",
    "#Kiểm tra xem đúng yêu cầu >=20 không\n",
    "if (len(string)<=20):\n",
    "    print(\"Yêu cầu nhập lại một chuỗi >=20\")\n",
    "else:\n",
    "    print(f\"Chữ cái thứ năm là {string[4]} và chữ cái thứ chín là {string[8]}\")"
   ]
  },
  {
   "cell_type": "markdown",
   "id": "67b84a0f",
   "metadata": {},
   "source": [
    "Bài 8"
   ]
  },
  {
   "cell_type": "code",
   "execution_count": null,
   "id": "069dae4c",
   "metadata": {},
   "outputs": [],
   "source": [
    "#Nhập tên chủ hộ\n",
    "name_chuho=input(\"Ten chu ho: \")\n",
    "#Nhập chỉ số tháng trước, tháng này\n",
    "thang_truoc=float(input(\"Chi so thang truoc: \"))\n",
    "thang_nay=float(input(\"Chi so thang nay: \"))\n",
    "#Tổng số điện tháng này\n",
    "sodien=thang_nay-thang_truoc\n",
    "#Tính tiền điện\n",
    "Tiendien=0\n",
    "if (sodien<=50):\n",
    "    Tiendien=sodien*1.984\n",
    "elif (sodien>50 and sodien<=100):\n",
    "    Tiendien=50*1.984 + (sodien-50)*2.050\n",
    "elif (sodien>100 and sodien<=200):\n",
    "    Tiendien=50*1.984 + 50*2.050 +(sodien-100)*2.380\n",
    "elif (sodien>200 and sodien<=300):\n",
    "    Tiendien=50*1.984 + 50*2.050 +100*2.380 +(sodien-200)*2.998\n",
    "elif (sodien>300 and sodien<=400):\n",
    "    Tiendien=50*1.984 + 50*2.050 +100*2.380 +100*2.998 + (sodien-300)*3.350\n",
    "else:\n",
    "    Tiendien=50*1.984 + 50*2.050 +100*2.380 +100*2.998 + 100*3.350 +(sodien-400)*3.460\n",
    "Tien=Tiendien*(1+0.08)*1000\n",
    "print(f\"Ho va ten: {name_chuho}\")\n",
    "print(f\"Tien phai tra la: {Tien:.0f}\")"
   ]
  },
  {
   "cell_type": "markdown",
   "id": "ed6fe4d6",
   "metadata": {},
   "source": [
    "Bài tập xem trước"
   ]
  },
  {
   "cell_type": "markdown",
   "id": "873d5383",
   "metadata": {},
   "source": [
    "Bài 1"
   ]
  },
  {
   "cell_type": "code",
   "execution_count": null,
   "id": "1aab972a",
   "metadata": {},
   "outputs": [],
   "source": [
    "#Kiểm tra số chẵn, kẻ\n",
    "n=int(input(\"Số nguyên là: \"))\n",
    "if (n%2==0):\n",
    "    print(\"Số chẵn\")\n",
    "else:\n",
    "    print(\"Số lẻ\")"
   ]
  },
  {
   "cell_type": "markdown",
   "id": "e20f7ad0",
   "metadata": {},
   "source": [
    "Bài 2"
   ]
  },
  {
   "cell_type": "code",
   "execution_count": null,
   "id": "6017b08f",
   "metadata": {},
   "outputs": [],
   "source": [
    "#Kiểm tra số có tận cùng 5\n",
    "n=int(input(\"Số nguyên là: \"))\n",
    "if (n%5==0 and n%10!=0):\n",
    "    print(\"True\")\n",
    "else:\n",
    "    print(\"False\")"
   ]
  },
  {
   "cell_type": "markdown",
   "id": "d89935a4",
   "metadata": {},
   "source": [
    "Bài 3"
   ]
  },
  {
   "cell_type": "code",
   "execution_count": null,
   "id": "5fc673c7",
   "metadata": {},
   "outputs": [],
   "source": [
    "#Kiểm tra số có chia hết cho 3 và 5\n",
    "n=int(input(\"Số nguyên là: \"))\n",
    "if (n%3==0 and n%5==0):\n",
    "    print(\"True\")\n",
    "else:\n",
    "    print(\"False\")"
   ]
  },
  {
   "cell_type": "markdown",
   "id": "f4d7915c",
   "metadata": {},
   "source": [
    "Bài 4"
   ]
  },
  {
   "cell_type": "code",
   "execution_count": null,
   "id": "56e8fa93",
   "metadata": {},
   "outputs": [],
   "source": [
    "#Kiểm tra người có đủ 18 tuổi đi bầu cử không\n",
    "year=int(input(\"Năm sinh của người đó: \"))\n",
    "age=2025-year\n",
    "if (age>=18):\n",
    "    print(\"Đủ tuổi đi bầu cử\")\n",
    "else:\n",
    "    print(\"Không đủ tuổi đi bầu cử\")"
   ]
  },
  {
   "cell_type": "markdown",
   "id": "509e4ad4",
   "metadata": {},
   "source": [
    "Bài 5"
   ]
  },
  {
   "cell_type": "code",
   "execution_count": null,
   "id": "76dfe15b",
   "metadata": {},
   "outputs": [],
   "source": [
    "#So sánh hai số\n",
    "a=int(input(\"Số a là: \"))\n",
    "b=int(input(\"Số b là: \"))\n",
    "if (a>b):\n",
    "    print(f\"Số lớn hơn là: {a}\")\n",
    "elif (a<b):\n",
    "    print(f\"Số lớn hơn là: {b}\")\n",
    "else:\n",
    "    print(\"Hai số bằng nhau\")"
   ]
  },
  {
   "cell_type": "markdown",
   "id": "4b5b0e4f",
   "metadata": {},
   "source": [
    "Bài 6"
   ]
  },
  {
   "cell_type": "code",
   "execution_count": null,
   "id": "f9df5d8d",
   "metadata": {},
   "outputs": [],
   "source": [
    "#Kiểm tra đó là kí tự chữ hay số\n",
    "char=input(\"Nhập kí tự: \")\n",
    "if ('0'<=char<='9'):\n",
    "    print(\"Đó là số\")\n",
    "else:\n",
    "    print(\"Đó là chữ cái\")"
   ]
  },
  {
   "cell_type": "markdown",
   "id": "bac4b51c",
   "metadata": {},
   "source": [
    "Bài 7"
   ]
  },
  {
   "cell_type": "code",
   "execution_count": null,
   "id": "67f49f48",
   "metadata": {},
   "outputs": [],
   "source": [
    "#Kiểm tra điểm học lực\n",
    "diem=int(input(\"Điểm học lực: \"))\n",
    "if (diem>=8):\n",
    "    print(\"Học lực giỏi\")\n",
    "elif (6.5<=diem<8):\n",
    "    print(\"Học lực khá\")\n",
    "elif (5<=diem<6.5):\n",
    "    print(\"Học lực trung bình\")\n",
    "else:\n",
    "    print(\"Học lực yếu\")"
   ]
  },
  {
   "cell_type": "markdown",
   "id": "fd7e3d96",
   "metadata": {},
   "source": [
    "Bài 8"
   ]
  },
  {
   "cell_type": "code",
   "execution_count": null,
   "id": "5d1e9e21",
   "metadata": {},
   "outputs": [],
   "source": [
    "#Kiểm tra năm nhuận\n",
    "year=int(input(\"Nhập năm: \"))\n",
    "if (year%400==0) or (year%4==0 and year%100!=0):\n",
    "    print(\"Đó là năm nhuận\")\n",
    "else:\n",
    "    print(\"Đó không phải là năm nhuận\")"
   ]
  },
  {
   "cell_type": "markdown",
   "id": "c3f3edb1",
   "metadata": {},
   "source": [
    "Bài 9"
   ]
  },
  {
   "cell_type": "code",
   "execution_count": null,
   "id": "e32e3981",
   "metadata": {},
   "outputs": [],
   "source": [
    "#Chuyển đổi chữ số\n",
    "n=int(input(\"Nhập chữ số: \"))\n",
    "match n:\n",
    "    case 0: print(\"Không\")\n",
    "    case 1: print(\"Một\")\n",
    "    case 2: print(\"Hai\")\n",
    "    case 3: print(\"Ba\")\n",
    "    case 4: print(\"Bốn\")\n",
    "    case 5: print(\"Năm\")\n",
    "    case 6: print(\"Sáu\")\n",
    "    case 7: print(\"Bảy\")\n",
    "    case 8: print(\"Tám\")\n",
    "    case 9: print(\"Chín\")"
   ]
  },
  {
   "cell_type": "markdown",
   "id": "3c9dc094",
   "metadata": {},
   "source": [
    "Bài 10"
   ]
  },
  {
   "cell_type": "code",
   "execution_count": null,
   "id": "9fa563b7",
   "metadata": {},
   "outputs": [],
   "source": [
    "#Kiểm tra điểm thi có qua môn hay học lại\n",
    "diemthi=float(input(\"Điểm thi: \"))\n",
    "if (diemthi>=4):\n",
    "    print(\"Qua môn\")\n",
    "else:\n",
    "    print(\"Học lại\")"
   ]
  },
  {
   "cell_type": "markdown",
   "id": "923e350c",
   "metadata": {},
   "source": [
    "Bài 11"
   ]
  },
  {
   "cell_type": "code",
   "execution_count": null,
   "id": "123b790f",
   "metadata": {},
   "outputs": [],
   "source": [
    "#Kiểm tra người có đủ 18 tuổi đi bầu cử không\n",
    "year=int(input(\"Năm sinh: \"))\n",
    "age=2025-year\n",
    "if (age>=18):\n",
    "    print(\"Đủ 18 tuổi\")\n",
    "else:\n",
    "    print(\"Không đủ 18 tuổi\")"
   ]
  }
 ],
 "metadata": {
  "language_info": {
   "name": "python"
  }
 },
 "nbformat": 4,
 "nbformat_minor": 5
}
