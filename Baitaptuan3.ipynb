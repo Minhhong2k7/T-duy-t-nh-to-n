{
 "cells": [
  {
   "cell_type": "markdown",
   "id": "ce80dfd1",
   "metadata": {},
   "source": [
    "Bài 1"
   ]
  },
  {
   "cell_type": "code",
   "execution_count": null,
   "id": "b0d5bc16",
   "metadata": {},
   "outputs": [],
   "source": [
    "#Nhập một số nguyên n và in ra các chữ số đảo ngược nhau\n",
    "n=int(input())\n",
    "#Đổi sang chuỗi\n",
    "chuoi=str(abs(n))\n",
    "#Đảo chuỗi\n",
    "dao_chuoi=chuoi[::-1]\n",
    "if n<0:\n",
    "    dao_chuoi=\"-\"+dao_chuoi\n",
    "print(dao_chuoi)"
   ]
  },
  {
   "cell_type": "markdown",
   "id": "4182e626",
   "metadata": {},
   "source": [
    "Bài 2"
   ]
  },
  {
   "cell_type": "code",
   "execution_count": null,
   "id": "d0dd9a73",
   "metadata": {},
   "outputs": [],
   "source": [
    "#Hoán đổi 2 số a và b\n",
    "#Nhập hai số a,b\n",
    "a,b=map(int,input().split())\n",
    "#Hoán đổi hai số a,b\n",
    "a=a^b\n",
    "b=a^b\n",
    "a=a^b\n",
    "print(f\"{a} {b}\")"
   ]
  },
  {
   "cell_type": "markdown",
   "id": "f8b03328",
   "metadata": {},
   "source": [
    "Bài 3"
   ]
  },
  {
   "cell_type": "code",
   "execution_count": null,
   "id": "f948749b",
   "metadata": {},
   "outputs": [],
   "source": [
    "#Kiểm tra lũy thừa của 2\n",
    "#Nhập số n\n",
    "n=int(input())\n",
    "#Kiểm tra có phải lũy thừa của 2 không\n",
    "if ( n & (n-1) )==0:\n",
    "    print(\"True\")\n",
    "else:\n",
    "    print(\"False\")"
   ]
  },
  {
   "cell_type": "markdown",
   "id": "9c36955c",
   "metadata": {},
   "source": [
    "Bài 4"
   ]
  },
  {
   "cell_type": "code",
   "execution_count": null,
   "id": "e5e1f47c",
   "metadata": {},
   "outputs": [],
   "source": [
    "#Chia một số m cho n, làm tròn xuống\n",
    "m,n=map(int,input().split())\n",
    "print(f\"{m//n}\")"
   ]
  },
  {
   "cell_type": "markdown",
   "id": "64a61779",
   "metadata": {},
   "source": [
    "Bài 5"
   ]
  },
  {
   "cell_type": "code",
   "execution_count": null,
   "id": "081b1cfa",
   "metadata": {},
   "outputs": [],
   "source": [
    "#Chia một số m cho n, làm tròn lên\n",
    "import math\n",
    "m,n=map(int,input().split())\n",
    "print(f\"{math.ceil(m//n)}\")"
   ]
  },
  {
   "cell_type": "markdown",
   "id": "db0e709a",
   "metadata": {},
   "source": [
    "Bài 6"
   ]
  },
  {
   "cell_type": "code",
   "execution_count": null,
   "id": "d8a33b7b",
   "metadata": {},
   "outputs": [],
   "source": [
    "#Even and Odd\n",
    "#Kiểm tra số chẵn, lẻ\n",
    "#Nhập số nguyên dương x\n",
    "x=int(input())\n",
    "#Kiểm tra số chẵn, lẽ\n",
    "if (x%2==0):\n",
    "    print(\"Even\")\n",
    "else:\n",
    "    print(\"Odd\")"
   ]
  },
  {
   "cell_type": "markdown",
   "id": "971adaf2",
   "metadata": {},
   "source": [
    "Bài 7"
   ]
  },
  {
   "cell_type": "code",
   "execution_count": null,
   "id": "90ea029d",
   "metadata": {},
   "outputs": [],
   "source": [
    "#Check negative number\n",
    "#Kiểm tra số âm\n",
    "#Nhập hai số nguyên\n",
    "a=int(input())\n",
    "b=int(input())\n",
    "#Kiểm tra số âm\n",
    "if (a<0 and b<0):\n",
    "    print(\"Yes\")\n",
    "else:\n",
    "    print(\"No\")"
   ]
  },
  {
   "cell_type": "markdown",
   "id": "bec2f52a",
   "metadata": {},
   "source": [
    "Bài 8"
   ]
  },
  {
   "cell_type": "code",
   "execution_count": null,
   "id": "4efa03bb",
   "metadata": {},
   "outputs": [],
   "source": [
    "#Longer string (Kiểm tra độ dài chuỗi)\n",
    "#Nhập hai chuỗi a,b\n",
    "a=input()\n",
    "b=input()\n",
    "#Kiểm tra độ dài chuỗi (\"true\" nếu chuỗi a dài hơn chuỗi b và ngược lại)\n",
    "if (len(a)>len(b)):\n",
    "    print(\"True\")\n",
    "else:\n",
    "    print(\"False\")"
   ]
  },
  {
   "cell_type": "markdown",
   "id": "8e2b42e7",
   "metadata": {},
   "source": [
    "Bài 9"
   ]
  },
  {
   "cell_type": "code",
   "execution_count": null,
   "id": "89ec9e2a",
   "metadata": {},
   "outputs": [],
   "source": [
    "#Triangle (Kiểm tra độ dài cạnh tam giác)\n",
    "#Nhập độ dài ba cạnh\n",
    "a=int(input())\n",
    "b=int(input())\n",
    "c=int(input())\n",
    "#Kiểm tra có phải tam giác hay không\n",
    "if (a<0) or (b<0) or (c<0):\n",
    "    print(\"No\")\n",
    "elif a + b >c and a + c > b and b + c >a:\n",
    "    print(\"Yes\")\n",
    "else:\n",
    "    print(\"No\")"
   ]
  },
  {
   "cell_type": "markdown",
   "id": "be50ff33",
   "metadata": {},
   "source": [
    "Bài 10"
   ]
  },
  {
   "cell_type": "code",
   "execution_count": null,
   "id": "5596345d",
   "metadata": {},
   "outputs": [],
   "source": [
    "#Largest number (Nhập 4 số, in ra số nguyên lớn nhất)\n",
    "import math\n",
    "a=int(input())\n",
    "b=int(input())\n",
    "c=int(input())\n",
    "d=int(input())\n",
    "print(f\"{max(a,b,c,d)}\")"
   ]
  },
  {
   "cell_type": "markdown",
   "id": "db0b1b06",
   "metadata": {},
   "source": [
    "Bài 11"
   ]
  },
  {
   "cell_type": "code",
   "execution_count": null,
   "id": "832da1b4",
   "metadata": {},
   "outputs": [],
   "source": [
    "#Phân loại tam giác\n",
    "#Nhập độ dài ba cạnh tam giác\n",
    "a,b,c=map(int,input().split())\n",
    "if a + b >c and a + c > b and b + c >a:\n",
    "    if a==b==c:\n",
    "        print(\"Tam giác đều\")\n",
    "    elif a==b or b==c or c==a:\n",
    "        print(\"Tam giác cân\")\n",
    "    else:\n",
    "        print(\"Tam giác thường\")\n",
    "else:\n",
    "    print(\"Không phải tam giác\")"
   ]
  },
  {
   "cell_type": "markdown",
   "id": "701d4e58",
   "metadata": {},
   "source": [
    "Bài 12"
   ]
  },
  {
   "cell_type": "code",
   "execution_count": null,
   "id": "8303a9c4",
   "metadata": {},
   "outputs": [],
   "source": [
    "#Kiểm tra năm nhuận \n",
    "#Nhập số năm\n",
    "n=int(input())\n",
    "#Kiểm tra có phải năm nhuận hay không\n",
    "if (n%4==0 and n%100!=0) or (n%400==0):\n",
    "    print(\"Yes\")\n",
    "else:\n",
    "    print(\"No\")"
   ]
  },
  {
   "cell_type": "markdown",
   "id": "cba2aa8f",
   "metadata": {},
   "source": [
    "Bài 13"
   ]
  },
  {
   "cell_type": "code",
   "execution_count": null,
   "id": "2c4f26ff",
   "metadata": {},
   "outputs": [],
   "source": [
    "#Tính tiền điện\n",
    "#Nhập số điện\n",
    "a=int(input())\n",
    "#Tính số tiền điện\n",
    "sotien=0\n",
    "if (a<=50):\n",
    "    sotien=a*1500\n",
    "if (a>50 and a<=100):\n",
    "    sotien=50*1500 + (a-50)*2000\n",
    "if (a>100):\n",
    "    sotien=50*1500 + 50*2000 + (a-100)*3000\n",
    "print(sotien)"
   ]
  },
  {
   "cell_type": "markdown",
   "id": "a42bc11d",
   "metadata": {},
   "source": [
    "Bài 14"
   ]
  },
  {
   "cell_type": "code",
   "execution_count": null,
   "id": "d39a40ca",
   "metadata": {},
   "outputs": [],
   "source": [
    "#Giải phương trình bậc nhất ax+b=0\n",
    "#Nhập hai số thực a,b\n",
    "a=float(input())\n",
    "b=float(input())\n",
    "#Trường hợp phương trình vô nghiệm khi a=0\n",
    "if (a==0 and b!=0):\n",
    "    print(\"Vô nghiệm\")\n",
    "elif(a==0 and b==0):\n",
    "    print(\"Vô số nghiệm\")\n",
    "else:\n",
    "    x=-b/a\n",
    "    print(f\"{x:.2f}\")"
   ]
  },
  {
   "cell_type": "markdown",
   "id": "3f19d334",
   "metadata": {},
   "source": [
    "Bài 15\n"
   ]
  },
  {
   "cell_type": "code",
   "execution_count": null,
   "id": "a15a0e19",
   "metadata": {},
   "outputs": [],
   "source": [
    "#Xếp loại học lực\n",
    "#Nhập điểm trung bình\n",
    "diem=float(input())\n",
    "#Xếp loại học lực\n",
    "if (diem>=8.0):\n",
    "    print(\"Giỏi\")\n",
    "if (diem<8.0 and diem>=6.5):\n",
    "    print(\"Khá\")\n",
    "if (diem<6.5 and diem>=5.0):\n",
    "    print(\"Trung bình\")\n",
    "if (diem<5.0):\n",
    "    print(\"Yếu\")"
   ]
  },
  {
   "cell_type": "markdown",
   "id": "2ab374ec",
   "metadata": {},
   "source": [
    "Bài 16"
   ]
  },
  {
   "cell_type": "code",
   "execution_count": null,
   "id": "646d68e1",
   "metadata": {},
   "outputs": [],
   "source": [
    "#Rounding\n",
    "#Nhập một số thực\n",
    "x=float(input())\n",
    "#In ra kết quả làm tròn lên, tròn xuống, làm tròn tới số nguyên gần nhất\n",
    "#Làm tròn xuống\n",
    "tron_xuong=int(x)\n",
    "if x<0 and x!=tron_xuong:\n",
    "    tron_xuong-=1\n",
    "#Làm tròn lên\n",
    "tron_len=int(x)\n",
    "if x>0 and x!=tron_len:\n",
    "    tron_len+=1\n",
    "#Tròn đến số nguyên gần nhất\n",
    "tron_nguyen=int(x)\n",
    "n=x-tron_nguyen\n",
    "if (n>=0.5):\n",
    "    tron_nguyen+=1\n",
    "elif n<=-0.5:\n",
    "    tron_nguyen-=1\n",
    "print(tron_len,tron_xuong,tron_nguyen)\n"
   ]
  },
  {
   "cell_type": "markdown",
   "id": "e1217967",
   "metadata": {},
   "source": [
    "Bài 17\n"
   ]
  },
  {
   "cell_type": "code",
   "execution_count": null,
   "id": "78c30109",
   "metadata": {},
   "outputs": [],
   "source": [
    "#Phân loại tam giác\n",
    "#Nhập độ dài ba cạnh tam giác\n",
    "a,b,c=map(int,input().split())\n",
    "if a + b >c and a + c > b and b + c >a:\n",
    "    if a==b==c:\n",
    "        print(\"Tam giác đều\")\n",
    "    elif a==b or b==c or c==a:\n",
    "        print(\"Tam giác cân\")\n",
    "    else:\n",
    "        print(\"Tam giác thường\")\n",
    "else:\n",
    "    print(\"Không phải tam giác\")"
   ]
  }
 ],
 "metadata": {
  "language_info": {
   "name": "python"
  }
 },
 "nbformat": 4,
 "nbformat_minor": 5
}
