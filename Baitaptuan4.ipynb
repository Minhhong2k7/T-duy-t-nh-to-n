{
 "cells": [
  {
   "cell_type": "markdown",
   "id": "ca69f2e7",
   "metadata": {},
   "source": [
    "W4A1"
   ]
  },
  {
   "cell_type": "code",
   "execution_count": null,
   "id": "b2eb6d71",
   "metadata": {},
   "outputs": [],
   "source": [
    "#SumOfNumBers\n",
    "#Tính tổng các số nguyên từ 1 đến n\n",
    "#Nhập số n\n",
    "n=int(input())\n",
    "sum=0\n",
    "for i in range(1,n+1):\n",
    "    sum+=i\n",
    "print(sum)"
   ]
  },
  {
   "cell_type": "markdown",
   "id": "7886a7d0",
   "metadata": {},
   "source": [
    "W4A2"
   ]
  },
  {
   "cell_type": "code",
   "execution_count": null,
   "id": "acc4c57b",
   "metadata": {},
   "outputs": [],
   "source": [
    "#[PrimeNumber]\n",
    "#Viết chương trình nhập vào một số tới khi được một số nguyên dương thì thôi. Kiểm tra số này có phải là số nguyên tố hay không?\n",
    "import math\n",
    "while True:\n",
    "    n=int(input())\n",
    "    if n>0:\n",
    "        break\n",
    "    else:\n",
    "        print(\"Vui lòng nhập lại số lớn hơn 0\")\n",
    "if (n==1):\n",
    "    print(f\"False\")\n",
    "else:\n",
    "    ktr=True\n",
    "    for i in range(2, int(math.sqrt(n))+1):\n",
    "        if n % i==0:\n",
    "            ktr=False\n",
    "            break\n",
    "if ktr:\n",
    "    print(f\"True\")\n",
    "else: \n",
    "    print(f\"False\")"
   ]
  },
  {
   "cell_type": "markdown",
   "id": "64718a72",
   "metadata": {},
   "source": [
    "W4A3"
   ]
  },
  {
   "cell_type": "code",
   "execution_count": null,
   "id": "5d1165bd",
   "metadata": {},
   "outputs": [],
   "source": [
    "#[Factorial] \n",
    "#Tính giai thừa của một số nguyên n\n",
    "n=int(input())\n",
    "giaithua=1\n",
    "for i in range(2,n+1):\n",
    "    giaithua*=i\n",
    "print(giaithua)"
   ]
  },
  {
   "cell_type": "markdown",
   "id": "a13598f8",
   "metadata": {},
   "source": [
    "W4A4"
   ]
  },
  {
   "cell_type": "code",
   "execution_count": null,
   "id": "4dd08387",
   "metadata": {},
   "outputs": [],
   "source": [
    "#[CountingDigits]\n",
    "#Viết chương trình nhập vào một số nguyên n và in ra màn hình số chữ số (trừ dấu) của số đó. Không dùng kiểu dữ liệu string.\n",
    "n=int(input())\n",
    "n=abs(n)\n",
    "count=0\n",
    "if n==0:\n",
    "    count=1\n",
    "else:\n",
    "    while n>0:\n",
    "        count+=1\n",
    "        n//=10\n",
    "print(count)"
   ]
  },
  {
   "cell_type": "markdown",
   "id": "63019c1e",
   "metadata": {},
   "source": [
    "W4A5"
   ]
  },
  {
   "cell_type": "code",
   "execution_count": null,
   "id": "dc5f1e81",
   "metadata": {},
   "outputs": [],
   "source": [
    "#MeaningOfLife\n",
    "n=int(input())\n",
    "num=list(map(int,input().split()))\n",
    "ktr=False\n",
    "for i in num:\n",
    "    if (i==42):\n",
    "        ktr=True\n",
    "        break\n",
    "if ktr:\n",
    "    print(f\"I′ve found the meaning of life!\")\n",
    "else:\n",
    "    print(f\"It's a joke!\")"
   ]
  },
  {
   "cell_type": "markdown",
   "id": "3e50b3a3",
   "metadata": {},
   "source": [
    "W4A6"
   ]
  },
  {
   "cell_type": "code",
   "execution_count": null,
   "id": "690f3d04",
   "metadata": {},
   "outputs": [],
   "source": [
    "#SumPrimesInRange\n",
    "#Tính tổng các số nguyên tố trong đoạn (a,b)\n",
    "import math\n",
    "def ktr_songto(n):\n",
    "    if n<2:\n",
    "        return False\n",
    "    for i in range(2,int(math.sqrt(n))+1):\n",
    "        if (n%i==0):\n",
    "            return False\n",
    "    return True\n",
    "a,b=map(int,input().split())\n",
    "sum=0\n",
    "for i in range(a, b+1):\n",
    "    if ktr_songto(i):\n",
    "        sum+=i\n",
    "print(sum)"
   ]
  },
  {
   "cell_type": "markdown",
   "id": "12afb6fa",
   "metadata": {},
   "source": [
    "W4A7"
   ]
  },
  {
   "cell_type": "code",
   "execution_count": null,
   "id": "3b74157a",
   "metadata": {},
   "outputs": [],
   "source": [
    "#LargestPrimeFactor\n",
    "#In ra ước số nguyên tố lớn nhất của n\n",
    "import math\n",
    "def ktr_songto(n):\n",
    "    if n<2:\n",
    "        return False\n",
    "    for i in range(2,int(math.sqrt(n))+1):\n",
    "        if (n%i==0):\n",
    "            return False\n",
    "    return True\n",
    "n=int(input())\n",
    "so_max=0\n",
    "if n<2:\n",
    "    print(\"Nhập lại\")\n",
    "else:\n",
    "    for i in range (2,n):\n",
    "        if (n%i==0) and (so_max<i) and ktr_songto(i):\n",
    "            so_max=i\n",
    "    if (so_max==0): so_max=n\n",
    "    print(so_max)"
   ]
  },
  {
   "cell_type": "markdown",
   "id": "f42f2f45",
   "metadata": {},
   "source": [
    "W4A8"
   ]
  },
  {
   "cell_type": "code",
   "execution_count": null,
   "id": "f351ac0a",
   "metadata": {},
   "outputs": [],
   "source": [
    "#ReverseAddPalindrome\n",
    "import math\n",
    "def reverse(x):\n",
    "    a=0\n",
    "    while x>0:\n",
    "        a=a*10 + x%10\n",
    "        x//=10\n",
    "    return a\n",
    "n=int(input())\n",
    "count=0\n",
    "while True:\n",
    "    n+=reverse(n)\n",
    "    count+=1\n",
    "    if (n==reverse(n)):\n",
    "        break\n",
    "print(f\"{count} {n}\")\n",
    "    "
   ]
  },
  {
   "cell_type": "markdown",
   "id": "a0291836",
   "metadata": {},
   "source": [
    "W4A9"
   ]
  },
  {
   "cell_type": "code",
   "execution_count": null,
   "id": "05e108e8",
   "metadata": {},
   "outputs": [],
   "source": [
    "#PerfectSquaresDistinctDigits\n",
    "#In ra tất cả số chính phương\n",
    "import math\n",
    "def check(n):\n",
    "    num=set()\n",
    "    while n>0:\n",
    "        x=n%10\n",
    "        if x in num:\n",
    "            return False\n",
    "        num.add(x)\n",
    "        n//=10\n",
    "    return True\n",
    "n=int(input())\n",
    "if n==1:\n",
    "    print(\"no number\")\n",
    "for i in range(1,n):\n",
    "    x=i*i\n",
    "    if (x<n) and check(x):\n",
    "        print(x, end=\" \")"
   ]
  },
  {
   "cell_type": "markdown",
   "id": "9cd4f72b",
   "metadata": {},
   "source": [
    "W4A10"
   ]
  },
  {
   "cell_type": "code",
   "execution_count": null,
   "id": "49d732a5",
   "metadata": {},
   "outputs": [],
   "source": [
    "#LongestCollatzUpToN\n",
    "\"\"\"\n",
    "Quy tắc dãy collatz\n",
    "x chẵn --> x=x/2\n",
    "x lẻ --> x = 3*x + 1\n",
    "lặp lại cho đến khi x=1\n",
    "Độ dài là số phần tử của quá trình này\n",
    "VD: dãy collatz của 9\n",
    "9 -> 28 -> 14 -> 7 -> 22 -> 11 -> 34 -> 17 -> 52 -> 26\n",
    "-> 13 -> 40 -> 20 -> 10 -> 5 -> 16 -> 8 -> 4 -> 2 -> 1\n",
    "có 20 phần tử\n",
    "\"\"\"\n",
    "def collatz(x):\n",
    "    len=1\n",
    "    while x!=1:\n",
    "        if x%2==0:\n",
    "            x//=2\n",
    "        else:\n",
    "            x=3*x+1\n",
    "        len+=1\n",
    "    return len\n",
    "\n",
    "n=int(input())\n",
    "max_len=0\n",
    "result=1\n",
    "for i in range (1,n+1):\n",
    "    l=collatz(i)\n",
    "    if (l>max_len) or (l==max_len and i<result):\n",
    "        max_len=l\n",
    "        result=i\n",
    "print(result,max_len)"
   ]
  },
  {
   "cell_type": "markdown",
   "id": "cba28269",
   "metadata": {},
   "source": [
    "W4A11"
   ]
  },
  {
   "cell_type": "code",
   "execution_count": null,
   "id": "45e2cd75",
   "metadata": {},
   "outputs": [],
   "source": [
    "#EvenDivisors\n",
    "#Đếm số lượng ước số chẵn\n",
    "n=int(input())\n",
    "count=0\n",
    "for i in range (2,n+1,2):\n",
    "    if (n%i==0):\n",
    "        count+=1\n",
    "print(count)"
   ]
  },
  {
   "cell_type": "markdown",
   "id": "42d1a3f5",
   "metadata": {},
   "source": [
    "W4A12"
   ]
  },
  {
   "cell_type": "code",
   "execution_count": null,
   "id": "7f2d348c",
   "metadata": {},
   "outputs": [],
   "source": [
    "#Interest\n",
    "money,year=map(int,input().split())\n",
    "rate=0.007\n",
    "total=money*(1+rate)**year\n",
    "print(int(total))"
   ]
  },
  {
   "cell_type": "markdown",
   "id": "2efe15ba",
   "metadata": {},
   "source": [
    "W4A13"
   ]
  },
  {
   "cell_type": "code",
   "execution_count": null,
   "id": "55c7a622",
   "metadata": {},
   "outputs": [],
   "source": [
    "#ClosePairNumber\n",
    "\"\"\"\n",
    "Hai số nguyên dương tạo thành một cặp số thân thiết khi\n",
    "chúng tuân theo quy luật: Số này bằng tổng tất cả các ước\n",
    "của số kia (trừ chính nó) và ngược lại.\n",
    "\"\"\"\n",
    "import math\n",
    "def tong_uoc(n):\n",
    "    sum=1\n",
    "    for i in range (2,int(math.sqrt(n))+1):\n",
    "        if (n%i==0):\n",
    "            sum+=i\n",
    "            if i!=n//i:\n",
    "                sum+=n//i\n",
    "    return sum\n",
    "a,b=map(int,input().split())\n",
    "if tong_uoc(a)==b and tong_uoc(b)==a:\n",
    "    print(\"true\")\n",
    "else:\n",
    "    print(\"false\")"
   ]
  },
  {
   "cell_type": "markdown",
   "id": "73c0d85d",
   "metadata": {},
   "source": [
    "W4A14"
   ]
  },
  {
   "cell_type": "code",
   "execution_count": null,
   "id": "a876f2c3",
   "metadata": {},
   "outputs": [],
   "source": [
    "#GCD\n",
    "#Tìm ước chung lớn nhất của hai số\n",
    "import math\n",
    "m,n=map(int,input().split())\n",
    "print(math.gcd(m,n))"
   ]
  },
  {
   "cell_type": "markdown",
   "id": "396bbec3",
   "metadata": {},
   "source": [
    "W4A15"
   ]
  },
  {
   "cell_type": "code",
   "execution_count": null,
   "id": "00603b91",
   "metadata": {},
   "outputs": [],
   "source": [
    "#ChickenAndDog\n",
    "\"\"\"\n",
    "Từ bài toán dân gian trên, mở rộng thành chương trình nhận\n",
    "đầu vào là tổng số con và tổng số chân của gà và chó. Nếu\n",
    "tìm được số phù hợp, in ra số lượng gà và số lượng chó.\n",
    "Ngược lại, in ra \"invalid\".\n",
    "x,y: con gà, chó\n",
    "x + y = a    --> x = a - y\n",
    "2x + 4y = b --> 2(a-y)+4y=b\n",
    "              --> 2a + 2y = b --> y=(b-2a)/2\n",
    "\"\"\"\n",
    "a,b=map(int,input().split())\n",
    "y = (b-2*a)/2\n",
    "x = a - y\n",
    "if x==int(x) and y==int(y) and x>=0 and y>=0:\n",
    "    print(int(x),int(y))\n",
    "else:\n",
    "    print(\"invalid\")"
   ]
  },
  {
   "cell_type": "markdown",
   "id": "389a398c",
   "metadata": {},
   "source": [
    "W4A16"
   ]
  },
  {
   "cell_type": "code",
   "execution_count": null,
   "id": "0eb4ec8e",
   "metadata": {},
   "outputs": [],
   "source": [
    "#In số chẵn chia hết cho 3 bé hơn 100\n",
    "for i in range (2,100,2):\n",
    "    if (i%3==0):\n",
    "        print(i,end=\" \")\n",
    "        "
   ]
  },
  {
   "cell_type": "markdown",
   "id": "4f5edfb1",
   "metadata": {},
   "source": [
    "W4A17"
   ]
  },
  {
   "cell_type": "code",
   "execution_count": null,
   "id": "cf8e069e",
   "metadata": {},
   "outputs": [],
   "source": [
    "#Cho số nguyên dương a, in ra bảng cửu chương của a\n",
    "a=int(input())\n",
    "for i in range (1,11):\n",
    "    print(f\"{a} x {i} = {a*i}\")"
   ]
  },
  {
   "cell_type": "markdown",
   "id": "bd8bb108",
   "metadata": {},
   "source": [
    "W4A18"
   ]
  },
  {
   "cell_type": "code",
   "execution_count": null,
   "id": "b28041b4",
   "metadata": {},
   "outputs": [],
   "source": [
    "#Nhập vào số nguyên dương a và b, in toàn bộ ước chung của a và b\n",
    "a,b=map(int,input().split())\n",
    "n=min(a,b)\n",
    "for i in range (1,n+1):\n",
    "    if a%i==0 and b%i==0:\n",
    "        print(i,end=\" \")"
   ]
  },
  {
   "cell_type": "markdown",
   "id": "e9a58e59",
   "metadata": {},
   "source": [
    "W4A19"
   ]
  },
  {
   "cell_type": "code",
   "execution_count": null,
   "id": "d9644fd7",
   "metadata": {},
   "outputs": [],
   "source": [
    "#EvenNumBers\n",
    "\"\"\"\n",
    "Viết chương trình Python sử dụng một trong 2 loại vòng lặp\n",
    "for hoặc while để in ra các số dương chẵn nhỏ hơn hoặc\n",
    "bằng n\n",
    "\"\"\"\n",
    "n=int(input())\n",
    "for i in range (2,n+1,2):\n",
    "    print(i,end=\" \")"
   ]
  },
  {
   "cell_type": "markdown",
   "id": "9a895d49",
   "metadata": {},
   "source": [
    "W4A20"
   ]
  },
  {
   "cell_type": "code",
   "execution_count": null,
   "id": "9034f1f5",
   "metadata": {},
   "outputs": [],
   "source": [
    "#Kiểm tra n có phải dạng 2^k hay không\n",
    "n=int(input())\n",
    "if n<=0:\n",
    "    print(\"false\")\n",
    "else:\n",
    "    while n%2==0:\n",
    "        n//=2\n",
    "    if n==1:\n",
    "        print(\"true\")\n",
    "    else:\n",
    "        print(\"false\")"
   ]
  },
  {
   "cell_type": "markdown",
   "id": "dc6f8792",
   "metadata": {},
   "source": [
    "W4A21"
   ]
  },
  {
   "cell_type": "code",
   "execution_count": null,
   "id": "b378a8ce",
   "metadata": {},
   "outputs": [],
   "source": [
    "#Nhập vào số nguyên dương n, tính tổng các chữ số của n\n",
    "n=int(input())\n",
    "sum=0\n",
    "for i in range (1,n+1):\n",
    "    sum+=i\n",
    "print(sum)"
   ]
  },
  {
   "cell_type": "markdown",
   "id": "871ded6f",
   "metadata": {},
   "source": [
    "W4A22"
   ]
  },
  {
   "cell_type": "code",
   "execution_count": null,
   "id": "fdd7aabf",
   "metadata": {},
   "outputs": [],
   "source": [
    "\"\"\"\n",
    "Nhập vào số nguyên dương n, đếm xem n có bao nhiêu chữ\n",
    "số chẵn, bao nhiêu chữ số lẻ\n",
    "\"\"\"\n",
    "n=int(input())\n",
    "sum_chan=0\n",
    "sum_le=0\n",
    "for i in range (1,n+1):\n",
    "    if (i%2==0):\n",
    "        sum_chan+=1\n",
    "    else:\n",
    "        sum_le+=1\n",
    "print(f\"Số chẵn: {sum_chan}, số lẻ: {sum_le}\")"
   ]
  },
  {
   "cell_type": "markdown",
   "id": "00840ec9",
   "metadata": {},
   "source": [
    "W4A23"
   ]
  },
  {
   "cell_type": "code",
   "execution_count": null,
   "id": "b6c2a413",
   "metadata": {},
   "outputs": [],
   "source": [
    "\"\"\"\n",
    "Nhập n\n",
    "Cho S(k) = 1 + 2 + 3 + … + k\n",
    "Tìm k sao cho S(k) lớn nhất nhưng nhỏ hơn n\n",
    "\"\"\"\n",
    "n=int(input())\n",
    "S=0\n",
    "k=0\n",
    "while True:\n",
    "    if S + (k + 1)<n:\n",
    "        k+=1\n",
    "        S+=k\n",
    "    else:\n",
    "        break\n",
    "print(k)"
   ]
  },
  {
   "cell_type": "markdown",
   "id": "bd6381eb",
   "metadata": {},
   "source": [
    "W4A24"
   ]
  },
  {
   "cell_type": "code",
   "execution_count": null,
   "id": "cb024c52",
   "metadata": {},
   "outputs": [],
   "source": [
    "#Nhập vào A, tìm n nhỏ nhất sao cho 1 + 1/2 + 1/3 + 1/4 + ... + 1/n > A\n",
    "A=int(input())\n",
    "n=1\n",
    "S=0\n",
    "while True:\n",
    "    if S < A:\n",
    "        S+=1/n\n",
    "        n+=1\n",
    "    else:\n",
    "        break\n",
    "print(n-1)"
   ]
  },
  {
   "cell_type": "markdown",
   "id": "288bc88d",
   "metadata": {},
   "source": [
    "W4A25"
   ]
  },
  {
   "cell_type": "code",
   "execution_count": null,
   "id": "4bf98528",
   "metadata": {},
   "outputs": [],
   "source": [
    "\"\"\"\n",
    "Nhập vào một dãy số nguyên, ngưng nhập khi người dùng\n",
    "nhập -1.\n",
    "Sau khi nhập xong, in số lớn nhất, số nhỏ nhất trong những\n",
    "số vừa nhập\n",
    "\"\"\"\n",
    "num=[]\n",
    "while True:\n",
    "    x=int(input(\"Nhập số: \"))\n",
    "    if x==-1:\n",
    "        break\n",
    "    num.append(x)\n",
    "if len(num)==0:\n",
    "    print(\"Không có số nào được nhập\")\n",
    "else:\n",
    "    print(f\"số lớn nhất: {max(num)}\")\n",
    "    print(f\"số nhỏ nhất: {min(num)}\")"
   ]
  },
  {
   "cell_type": "markdown",
   "id": "2168cc7b",
   "metadata": {},
   "source": [
    "W4A26"
   ]
  },
  {
   "cell_type": "code",
   "execution_count": null,
   "id": "8611e4e2",
   "metadata": {},
   "outputs": [],
   "source": [
    "\"\"\"\n",
    "Dãy số fibonacci là dãy số được định nghĩa như sau: 1, 1, 2,\n",
    "3, 5, 8, 13,... với số kế tiếp sẽ bằng tổng hai số trước đó\n",
    "Nhập vào số nguyên dương A, hãy tìm số trong dãy số\n",
    "fibonacci lớn nhất nhưng không vượt quá A\n",
    "\"\"\"\n",
    "A=int(input())\n",
    "f1=1\n",
    "f2=1\n",
    "if A<1:\n",
    "    print(\"Không tồn tại\")\n",
    "else:\n",
    "    while f2<=A:\n",
    "        f1,f2=f2,f1+f2\n",
    "    print(f\"Fibonacci lớn nhất: {f1}\")"
   ]
  },
  {
   "cell_type": "markdown",
   "id": "d2864f9a",
   "metadata": {},
   "source": [
    "W4A27"
   ]
  },
  {
   "cell_type": "code",
   "execution_count": null,
   "id": "19c4559d",
   "metadata": {},
   "outputs": [],
   "source": [
    "\"\"\"\n",
    "Nhập vào một chuỗi, hãy đếm xem trong chuỗi có bao nhiêu\n",
    "từ (quy định là chuỗi không có ký tự đặc biệt, không số,\n",
    "không có dấu câu, chỉ có ký tự chữ và khoảng trắng)\n",
    "Dùng cách: for trên index; KHÔNG dùng hàm split(), len()\n",
    "\"\"\"\n",
    "s=input()\n",
    "count=0\n",
    "ktr=False #Kiểm tra có đang một từ hay không\n",
    "for i in range (0,len(s)):\n",
    "    if s[i]!=' 'and not ktr: \n",
    "        count+=1  #Bắt đầu một từ mới\n",
    "        ktr=True\n",
    "    elif s[i]==' ':\n",
    "        ktr=False  #Kết thúc 1 từ\n",
    "print(count)"
   ]
  },
  {
   "cell_type": "markdown",
   "id": "0a2e36b6",
   "metadata": {},
   "source": [
    "W4A28"
   ]
  },
  {
   "cell_type": "code",
   "execution_count": null,
   "id": "6d1142cb",
   "metadata": {},
   "outputs": [],
   "source": [
    "\"\"\"\n",
    "Nhập vào một chuỗi, hãy in từ đầu tiên trong chuỗi\n",
    "Dùng cách: for trên index; KHÔNG dùng hàm split()\n",
    "\"\"\"\n",
    "s=input()\n",
    "word = \"\"\n",
    "for i in range (len(s)):\n",
    "    if s[i]!=' ':\n",
    "        word+=s[i]\n",
    "    else:\n",
    "        break\n",
    "print(word)"
   ]
  },
  {
   "cell_type": "markdown",
   "id": "3a7cbbad",
   "metadata": {},
   "source": [
    "W4A29"
   ]
  },
  {
   "cell_type": "code",
   "execution_count": null,
   "id": "737bb1c6",
   "metadata": {},
   "outputs": [],
   "source": [
    "\"\"\"\n",
    "Nhập vào một chuỗi có dạng 3 số nguyên, mỗi số nguyên\n",
    "cách nhau một dấu phẩy, hãy tính tổng 3 số nguyên đó\n",
    "VD:\n",
    "Nhập: 3, 12, 15\n",
    "Tổng: 30\n",
    "\"\"\"\n",
    "s=input()\n",
    "num=\"\"\n",
    "sum=0\n",
    "for i in range (0,len(s)):\n",
    "    if s[i]!=',' and s[i]!=' ':\n",
    "        num+=s[i]\n",
    "    else:\n",
    "        if num!=\"\":\n",
    "            sum+=int(num)\n",
    "            num=\"\"\n",
    "if num!=\"\":\n",
    "    sum+=int(num)\n",
    "print(sum)"
   ]
  },
  {
   "cell_type": "markdown",
   "id": "2afc4c42",
   "metadata": {},
   "source": [
    "W4A30"
   ]
  },
  {
   "cell_type": "code",
   "execution_count": null,
   "id": "a93aedb8",
   "metadata": {},
   "outputs": [],
   "source": [
    "\"\"\"\n",
    "Nhập vào một chuỗi, hãy đếm xem trong chuỗi có bao nhiêu\n",
    "ký tự in hoa, bao nhiêu ký tự in thường, bao nhiêu ký tự số\n",
    "\"\"\"\n",
    "s=input()\n",
    "count_thuong=0\n",
    "count_hoa=0\n",
    "count_so=0\n",
    "for i in range (0,len(s)):\n",
    "    if '0'<= s[i] <='9':\n",
    "        count_so+=1\n",
    "    elif 'a'<=s[i]<='z':\n",
    "        count_thuong+=1\n",
    "    elif 'A'<=s[i]<='Z':\n",
    "        count_hoa+=1\n",
    "print(f\"Chữ hoa: {count_hoa}, chữ thường: {count_thuong}, chữ số: {count_so}\")\n"
   ]
  },
  {
   "cell_type": "markdown",
   "id": "234ce850",
   "metadata": {},
   "source": [
    "W4A31"
   ]
  },
  {
   "cell_type": "code",
   "execution_count": null,
   "id": "601cb99e",
   "metadata": {},
   "outputs": [],
   "source": [
    "#Nhập vào một chuỗi, hãy tách toàn bộ ký tự số trong chuỗi ra rồi tính tổng của chúng\n",
    "s=input()\n",
    "sum=0\n",
    "for i in range (0, len(s)):\n",
    "    if '0'<=s[i]<='9':\n",
    "        sum+=int(s[i])\n",
    "print(sum)"
   ]
  },
  {
   "cell_type": "markdown",
   "id": "a391a7dd",
   "metadata": {},
   "source": [
    "W4A32"
   ]
  },
  {
   "cell_type": "code",
   "execution_count": null,
   "id": "960e798a",
   "metadata": {},
   "outputs": [],
   "source": [
    "\"\"\"\n",
    "Nhập vào một chuỗi, kiểm tra chuỗi đó có phải là một chuỗi\n",
    "mật khẩu mạnh hay không (một chuỗi mật khẩu mạnh cần có\n",
    "ít nhất 1 ký tự đặc biệt, 1 ký tự in hoa, 1 con số, 1 chữ\n",
    "thường và độ dài phải lớn hơn 6)\n",
    "\"\"\"\n",
    "s=input()\n",
    "ktr_so=False\n",
    "ktr_thuong=False\n",
    "ktr_hoa=False\n",
    "ktr_db=False\n",
    "for i in range (len(s)):\n",
    "    if 'A' <= s[i] <= 'Z':\n",
    "        ktr_hoa=True\n",
    "    elif 'a' <= s[i] <= 'z':\n",
    "        ktr_thuong=True\n",
    "    elif '0' <= s[i] <= '9':\n",
    "        ktr_so = True\n",
    "    else:\n",
    "        ktr_db= True\n",
    "if ktr_db and ktr_hoa and ktr_thuong and ktr_so and len(s)>6:\n",
    "    print(\"Mật khẩu mạnh\")\n",
    "else:\n",
    "    print(\"Mật khẩu yếu\")"
   ]
  },
  {
   "cell_type": "markdown",
   "id": "7faa011c",
   "metadata": {},
   "source": [
    "W4A33"
   ]
  },
  {
   "cell_type": "code",
   "execution_count": null,
   "id": "9b10444d",
   "metadata": {},
   "outputs": [],
   "source": [
    "\"\"\"\n",
    "Nhập vào một số nguyên, hãy chuyển số sang chuỗi, rồi đặt\n",
    "dấu chấm phân tách mỗi 3 chữ số (phân cách phần ngàn) rồi\n",
    "in ra màn hình\n",
    "\"\"\"\n",
    "n=int(input())\n",
    "s=str(n)\n",
    "kq = \"\"\n",
    "count = 0\n",
    "#Duyệt chuỗi từ dưới lên, nếu đủ 3 số thì chèn dấu . vào, reset lại điếm đếm\n",
    "for i in range (len(s)-1,-1,-1):\n",
    "    kq = s[i] + kq\n",
    "    count+=1\n",
    "    if count == 3 and i!=0:\n",
    "        kq = \".\" + kq\n",
    "        count = 0\n",
    "print(kq)"
   ]
  },
  {
   "cell_type": "markdown",
   "id": "0ace52ce",
   "metadata": {},
   "source": [
    "W4A34"
   ]
  },
  {
   "cell_type": "code",
   "execution_count": null,
   "id": "91c7fcbe",
   "metadata": {},
   "outputs": [],
   "source": [
    "\"\"\"\n",
    "Nhập vào chuỗi a và chuỗi b\n",
    "Hãy xóa chuỗi b trong chuỗi a rồi in lại chuỗi a ra màn hình\n",
    "(không dùng hàm replace)\n",
    "\"\"\"\n",
    "a=input(\"Nhập chuỗi a: \")\n",
    "b=input(\"Nhập chuỗi b: \")\n",
    "kq=\"\"\n",
    "i=0\n",
    "while i<len(a):\n",
    "#Cắt chuỗi a từ vị trí i đến vị trí i + len(b), so sánh xem có giống b không\n",
    "    if a[i:i+len(b)]==b: \n",
    "        i+=len(b) #bỏ qua phần chuỗi b\n",
    "    else:\n",
    "        kq+=a[i] \n",
    "        i+=1\n",
    "print(\"Chuỗi sau khi xóa: \", kq)\n"
   ]
  }
 ],
 "metadata": {
  "kernelspec": {
   "display_name": "Python 3",
   "language": "python",
   "name": "python3"
  },
  "language_info": {
   "name": "python",
   "version": "3.13.7"
  }
 },
 "nbformat": 4,
 "nbformat_minor": 5
}
